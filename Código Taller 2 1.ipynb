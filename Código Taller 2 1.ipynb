{
 "cells": [
  {
   "cell_type": "code",
   "execution_count": 7,
   "metadata": {},
   "outputs": [
    {
     "name": "stdout",
     "output_type": "stream",
     "text": [
      "Está siendo perseguida y voltea a revisar\n",
      "¿Hay algún lugar abierto? No\n",
      "Grita y mueve el cuerpo de forma extraña para alejar a quien la persigue\n",
      "ERROR - Ingrese un número válido (1 ó 2) para poder continuar\n",
      "¿Se alejó la persona? No\n",
      "Alista el llavero de defensa\n",
      "¿La persona la atacó? Sí\n",
      "Lo lastima y sale corriendo\n",
      "Llega a la casa\n",
      "FIN\n"
     ]
    }
   ],
   "source": [
    "#Pregunta: Caminas en la noche por una calle solitaria y sientes que alguien te sigue ¿Cómo reaccionas?\n",
    "\n",
    "def validar_entrada(pregunta, opciones_validas): #Creamos una función para poder seguir el código con solo los números 'permitidos'\n",
    "    #la función 'validar_entrada' tiene la estructura en la cual primero va la pregunta que se le muestra al usuario y luego el rango de números permitidos\n",
    "    \n",
    "    while True:\n",
    "        respuesta = int(input(pregunta)) #respuesta -> es la variable p1 o p2 o p3 la cual permite que el usuario ingrese el número\n",
    "        \n",
    "        if respuesta in opciones_validas: #si la respuesta que dió el usuario está en la lista de las opciones válidas...\n",
    "            return respuesta #Devuelva el número (1 ó 2)\n",
    "        \n",
    "        else:\n",
    "            print(\"ERROR - Ingrese un número válido (1 ó 2) para poder continuar\") #si no está ese número dentro de la lista no avanza el código\n",
    "\n",
    "\n",
    "The_end = \"Llega a la casa\"\n",
    "print(\"Está siendo perseguida y voltea a revisar\")\n",
    "while True: #Usamos el while para ejecutar el código mientras se cumpla la condición y para poder usar el break \n",
    "    \n",
    "    #Pregunta 1\n",
    "    p1 = validar_entrada(\"¿Hay algún lugar abierto? (escoge 1= sí ó 2= No): \", [1, 2]) #opciones_validas-> es una lista que tiene los números 1 y 2\n",
    "    if p1 == 1:\n",
    "        print(\"¿Hay algún lugar abierto? Sí\") #Pregunta con su respuesta para serguir el hilo de la historia\n",
    "        print(\"Entra y pide ayuda\")\n",
    "        print(The_end)\n",
    "        break #Termina el código SÍ y solo SÍ ya se cumplió esa condición\n",
    "    \n",
    "    else:\n",
    "        print(\"¿Hay algún lugar abierto? No\")\n",
    "        print(\"Grita y mueve el cuerpo de forma extraña para alejar a quien la persigue\")\n",
    "\n",
    "        #segunda pregunta\n",
    "        p2 = validar_entrada(\"¿Se alejó la persona? (escoge 1= sí ó 2= No)\", [1, 2]) \n",
    "        if p2 == 1:\n",
    "            print(\"¿Se alejó la persona? Sí\")\n",
    "            print(\"Está a salvo\")\n",
    "            print(The_end)\n",
    "            break\n",
    "        \n",
    "        else:\n",
    "            print(\"¿Se alejó la persona? No\")\n",
    "            print(\"Alista el llavero de defensa\")\n",
    "            \n",
    "            #tercera pregunta\n",
    "            p3 = validar_entrada(\"¿La persona la atacó?(escoge 1= sí ó 2= No)\", [1, 2]) \n",
    "            if  p3 == 1:\n",
    "                print(\"¿La persona la atacó? Sí\")\n",
    "                print(\"Lo lastima y sale corriendo\")\n",
    "                print(The_end)\n",
    "                break\n",
    "            else:\n",
    "                print(\"¿La persona la atacó? No\")\n",
    "                print(\"Se detiene y espera a que se aleje\")\n",
    "                print(The_end)\n",
    "                break\n",
    "\n",
    "print(\"FIN\")\n"
   ]
  }
 ],
 "metadata": {
  "kernelspec": {
   "display_name": "Python 3",
   "language": "python",
   "name": "python3"
  },
  "language_info": {
   "codemirror_mode": {
    "name": "ipython",
    "version": 3
   },
   "file_extension": ".py",
   "mimetype": "text/x-python",
   "name": "python",
   "nbconvert_exporter": "python",
   "pygments_lexer": "ipython3",
   "version": "3.12.5"
  }
 },
 "nbformat": 4,
 "nbformat_minor": 2
}
